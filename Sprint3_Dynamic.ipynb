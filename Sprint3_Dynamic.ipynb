{
  "nbformat": 4,
  "nbformat_minor": 0,
  "metadata": {
    "colab": {
      "provenance": []
    },
    "kernelspec": {
      "name": "python3",
      "display_name": "Python 3"
    },
    "language_info": {
      "name": "python"
    }
  },
  "cells": [
    {
      "cell_type": "markdown",
      "source": [
        "Bernardo Rocha - RM99209\n",
        "\n",
        "Bianca Dancs - RM551645\n",
        "\n",
        "João Gava - RM550595\n",
        "\n",
        "Isabelle - RM97717"
      ],
      "metadata": {
        "id": "Zt_MM3vkRYOt"
      }
    },
    {
      "cell_type": "code",
      "source": [
        "import random\n",
        "import time"
      ],
      "metadata": {
        "id": "DzcXD3fTJF9I"
      },
      "execution_count": 63,
      "outputs": []
    },
    {
      "cell_type": "code",
      "source": [
        "# tempo necessário para cortar o ingrediente\n",
        "class Ingrediente:\n",
        "    def __init__(self, nome, tempo_corte):\n",
        "        self.nome = nome\n",
        "        self.tempo_corte = tempo_corte"
      ],
      "metadata": {
        "id": "AgmzR7BlJIkM"
      },
      "execution_count": 64,
      "outputs": []
    },
    {
      "cell_type": "code",
      "source": [
        "# Lista de ingredientes\n",
        "class Sushi:\n",
        "    def __init__(self, nome, ingredientes):\n",
        "        self.nome = nome\n",
        "        self.ingredientes = ingredientes"
      ],
      "metadata": {
        "id": "mKADeFOgJKEu"
      },
      "execution_count": 65,
      "outputs": []
    },
    {
      "cell_type": "code",
      "source": [
        "class RestauranteSushi:\n",
        "    def __init__(self, nome_pessoa):\n",
        "        self.nome_pessoa = nome_pessoa\n",
        "        self.ingredientes = [\n",
        "            Ingrediente(\"Peixe\", 15),\n",
        "            Ingrediente(\"Arroz\", 10),\n",
        "            Ingrediente(\"Alga\", 10),\n",
        "            Ingrediente(\"Vegetais\", 15)\n",
        "        ]\n",
        "        self.sushis = [\n",
        "            Sushi(\"Hossomaki\", [self.ingredientes[0], self.ingredientes[1]]),\n",
        "            Sushi(\"Maki\", [self.ingredientes[2], self.ingredientes[1]]),\n",
        "            Sushi(\"Sashimi\", [self.ingredientes[0]])\n",
        "        ]\n",
        "        self.dados_performance = []  # Tabela para armazenar desempenho\n",
        "\n",
        "    def cortar_ingrediente(self, nome_ingrediente):\n",
        "        for ingrediente in self.ingredientes:\n",
        "            if ingrediente.nome == nome_ingrediente:\n",
        "                print(f\"{self.nome_pessoa} está cortando {ingrediente.nome}...\")\n",
        "                time.sleep(ingrediente.tempo_corte)\n",
        "                print(f\"{ingrediente.nome} cortado com sucesso!\")\n",
        "                return ingrediente.tempo_corte\n",
        "        print(\"Ingrediente não encontrado.\")\n",
        "        return 0\n",
        "\n",
        "    def cortar_ingredientes_recursivo(self, ingredientes, tempos, indice=0):\n",
        "        if indice < len(ingredientes):\n",
        "            tempo = self.cortar_ingrediente(ingredientes[indice].nome)\n",
        "            tempos.append(tempo)  # Armazena o tempo de corte\n",
        "            self.cortar_ingredientes_recursivo(ingredientes, tempos, indice + 1)\n",
        "\n",
        "    def montar_sushi(self):\n",
        "        print(f\"{self.nome_pessoa} está montando o sushi...\")\n",
        "        tempo_montagem = 15\n",
        "        time.sleep(tempo_montagem)\n",
        "        print(\"Sushi montado com sucesso!\")\n",
        "        return tempo_montagem\n",
        "\n",
        "    def colocar_no_prato(self):\n",
        "        print(f\"{self.nome_pessoa} está colocando o sushi no prato...\")\n",
        "        tempo_prato = 10\n",
        "        time.sleep(tempo_prato)\n",
        "        print(\"Sushi colocado no prato com sucesso!\")\n",
        "        return tempo_prato\n",
        "\n",
        "    def preparar_sushi(self, nome_sushi):\n",
        "        for sushi in self.sushis:\n",
        "            if sushi.nome == nome_sushi:\n",
        "                print(f\"{self.nome_pessoa} está preparando sushi: {sushi.nome}\")\n",
        "\n",
        "                tempos_corte = []  # Lista para armazenar tempos de corte\n",
        "                tempo_inicio = time.time()  # Tempo de início\n",
        "\n",
        "                # Cortando ingredientes\n",
        "                self.cortar_ingredientes_recursivo(sushi.ingredientes, tempos_corte)\n",
        "\n",
        "                # Montando o sushi\n",
        "                tempo_montagem = self.montar_sushi()\n",
        "\n",
        "                # Colocando no prato\n",
        "                tempo_prato = self.colocar_no_prato()\n",
        "\n",
        "                 # Tempo de término\n",
        "                tempo_fim = time.time()\n",
        "\n",
        "                # Cálculo do tempo total\n",
        "                tempo_total = sum(tempos_corte) + tempo_montagem + tempo_prato\n",
        "\n",
        "                # Tempo da simulação\n",
        "                tempo_simulacao = tempo_fim - tempo_inicio\n",
        "\n",
        "                self.medir_performance(tempos_corte, tempo_montagem, tempo_prato, tempo_total, tempo_simulacao, nome_sushi)\n",
        "                return sushi\n",
        "        print(\"Sushi não encontrado.\")\n",
        "        return None\n",
        "\n",
        "    def medir_performance(self, tempos_corte, tempo_montagem, tempo_prato, tempo_total, tempo_simulacao, nome_sushi):\n",
        "        print(f\"\\nTempos de preparação para o sushi {nome_sushi}:\")\n",
        "        print(f\"Tempo de cortar ingredientes: {sum(tempos_corte):.2f} segundos\")\n",
        "        print(f\"Tempo de montar o sushi: {tempo_montagem:.2f} segundos\")\n",
        "        print(f\"Tempo de colocar no prato: {tempo_prato:.2f} segundos\")\n",
        "        print(f\"Tempo total para preparar o {nome_sushi}: {tempo_total:.2f} segundos\")\n",
        "        print(f\"Tempo total da simulação: {tempo_simulacao:.2f} segundos\")\n",
        "\n",
        "        # Adiciona os dados de desempenho à tabela\n",
        "        self.dados_performance.append([nome_sushi, sum(tempos_corte), tempo_montagem, tempo_prato, tempo_total, tempo_simulacao])\n",
        "        self.exibir_performance()\n",
        "\n",
        "    def exibir_performance(self):\n",
        "        print(\"\\nTabela de Desempenho:\")\n",
        "        print(\"Sushi            | Corte (s) | Montagem (s) | Prato (s) | Tempo Total (s) | Tempo Simulação (s)\")\n",
        "        print(\"------------------|-----------|---------------|-----------|----------------|-------------------\")\n",
        "        for entry in self.dados_performance:\n",
        "            print(f\"{entry[0]:<18} | {entry[1]:<9.2f} | {entry[2]:<13.2f} | {entry[3]:<9.2f} | {entry[4]:<15.2f} | {entry[5]:<17.2f}\")\n",
        "        print(\"------------------|-----------|---------------|-----------|----------------|-------------------\")"
      ],
      "metadata": {
        "id": "aDrPSBX8I3rr"
      },
      "execution_count": 68,
      "outputs": []
    },
    {
      "cell_type": "code",
      "source": [
        "def main():\n",
        "    nome_pessoa = \"João\"\n",
        "    restaurante = RestauranteSushi(nome_pessoa)\n",
        "\n",
        "    # Simulando a preparação de um sushi\n",
        "    sushi_para_preparar = \"Hossomaki\"\n",
        "    restaurante.preparar_sushi(sushi_para_preparar)\n",
        "\n",
        "if __name__ == \"__main__\":\n",
        "    main()"
      ],
      "metadata": {
        "id": "udnnkcDcJQ8-"
      },
      "execution_count": null,
      "outputs": []
    }
  ]
}